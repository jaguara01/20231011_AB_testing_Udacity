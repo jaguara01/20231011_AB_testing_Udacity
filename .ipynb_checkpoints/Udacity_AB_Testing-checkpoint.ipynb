{
 "cells": [
  {
   "cell_type": "markdown",
   "id": "fee22693",
   "metadata": {},
   "source": [
    "# Udacity end project"
   ]
  },
  {
   "cell_type": "markdown",
   "id": "688c0bfd",
   "metadata": {},
   "source": [
    "# Introduction"
   ]
  },
  {
   "cell_type": "markdown",
   "id": "6f8416bd",
   "metadata": {},
   "source": [
    "# Project Instructions"
   ]
  },
  {
   "cell_type": "markdown",
   "id": "dc330c8d",
   "metadata": {},
   "source": [
    "## Experiment Overview: Free Trial Screener"
   ]
  },
  {
   "cell_type": "markdown",
   "id": "f6def65c",
   "metadata": {},
   "source": [
    "At the time of this experiment, Udacity courses currently have two options on the course overview page: \"start free trial\", and \"access course materials\". If the student clicks \"start free trial\", they will be asked to enter their credit card information, and then they will be enrolled in a free trial for the paid version of the course. After 14 days, they will automatically be charged unless they cancel first. If the student clicks \"access course materials\", they will be able to view the videos and take the quizzes for free, but they will not receive coaching support or a verified certificate, and they will not submit their final project for feedback.\n",
    "\n",
    "\n",
    "In the experiment, Udacity tested a change where if the student clicked \"start free trial\", they were asked how much time they had available to devote to the course. If the student indicated 5 or more hours per week, they would be taken through the checkout process as usual. If they indicated fewer than 5 hours per week, a message would appear indicating that Udacity courses usually require a greater time commitment for successful completion, and suggesting that the student might like to access the course materials for free. At this point, the student would have the option to continue enrolling in the free trial, or access the course materials for free instead. \n",
    "\n",
    "The hypothesis was that this might set clearer expectations for students upfront, thus reducing the number of frustrated students who left the free trial because they didn't have enough time—without significantly reducing the number of students to continue past the free trial and eventually complete the course. If this hypothesis held true, Udacity could improve the overall student experience and improve coaches' capacity to support students who are likely to complete the course.\n",
    "\n",
    "\n",
    "The unit of diversion is a cookie, although if the student enrolls in the free trial, they are tracked by user-id from that point forward. The same user-id cannot enroll in the free trial twice. For users that do not enroll, their user-id is not tracked in the experiment, even if they were signed in when they visited the course overview page."
   ]
  },
  {
   "cell_type": "markdown",
   "id": "0667559e",
   "metadata": {},
   "source": [
    "# Metric of choice"
   ]
  },
  {
   "cell_type": "markdown",
   "id": "bd139270",
   "metadata": {},
   "source": [
    "Which of the following metrics would you choose to measure for this experiment and why? For each metric you choose, indicate whether you would use it as an invariant metric or an evaluation metric. The practical significance boundary for each metric, that is, the difference that would have to be observed before that was a meaningful change for the business, is given in parentheses. All practical significance boundaries are given as absolute changes.\n",
    "\n",
    "\n",
    "Any place \"unique cookies\" are mentioned, the uniqueness is determined by day. (That is, the same cookie visiting on different days would be counted twice.) User-ids are automatically unique since the site does not allow the same user-id to enroll twice.\n",
    "\n",
    "\n",
    "- Number of cookies: That is, number of unique cookies to view the course overview page. (dmin=3000)\n",
    "\n",
    "\n",
    "- Number of user-ids: That is, number of users who enroll in the free trial. (dmin=50)\n",
    "\n",
    "\n",
    "- Number of clicks: That is, number of unique cookies to click the \"Start free trial\" button (which happens before the free trial screener is trigger). (dmin=240)\n",
    "\n",
    "\n",
    "- Click-through-probability: That is, number of unique cookies to click the \"Start free trial\" button divided by number of unique cookies to view the course overview page. (dmin=0.01)\n",
    "\n",
    "\n",
    "- Gross conversion: That is, number of user-ids to complete checkout and enroll in the free trial divided by number of unique cookies to click the \"Start free trial\" button. (dmin= 0.01)\n",
    "\n",
    "\n",
    "- Retention: That is, number of user-ids to remain enrolled past the 14-day boundary (and thus make at least one payment) divided by number of user-ids to complete checkout. (dmin=0.01)\n",
    "\n",
    "\n",
    "- Net conversion: That is, number of user-ids to remain enrolled past the 14-day boundary (and thus make at least one payment) divided by the number of unique cookies to click the \"Start free trial\" button. (dmin= 0.0075)\n",
    "\n",
    "You should also decide now what results you will be looking for in order to launch the experiment. Would a change in any one of your evaluation metrics be sufficient? Would you want to see multiple metrics all move or not move at the same time in order to launch? This decision will inform your choices while designing the experiment."
   ]
  },
  {
   "cell_type": "markdown",
   "id": "e5fcfbe9",
   "metadata": {},
   "source": [
    "# Python"
   ]
  },
  {
   "cell_type": "markdown",
   "id": "1a3a6e6d",
   "metadata": {},
   "source": [
    "Python was choosen to calculate the different results"
   ]
  },
  {
   "cell_type": "markdown",
   "id": "9cb04261",
   "metadata": {},
   "source": [
    "### Libraries"
   ]
  },
  {
   "cell_type": "code",
   "execution_count": 127,
   "id": "ca3980a3",
   "metadata": {},
   "outputs": [],
   "source": [
    "import math as mt\n",
    "import numpy as np\n",
    "import pandas as pd\n",
    "import statsmodels.api as sm\n",
    "from scipy.stats import norm\n",
    "from scipy.stats import binom\n",
    "from scipy import stats\n",
    "import matplotlib.pyplot as plt \n",
    "\n"
   ]
  },
  {
   "cell_type": "markdown",
   "id": "e3e928b5",
   "metadata": {},
   "source": [
    "# 2 - Metrics identification"
   ]
  },
  {
   "cell_type": "markdown",
   "id": "f1488a90",
   "metadata": {},
   "source": [
    "## Evaluation metrics"
   ]
  },
  {
   "cell_type": "markdown",
   "id": "134d3876",
   "metadata": {},
   "source": [
    "The evaluate our results we will use the following metrics:\n",
    "\n",
    "\n",
    "- Gross conversion: This measures the number of user-ids that complete checkout and enroll in the free trial, divided by the number of unique cookies that click the \"Start free trial\" button. This is an evaluation metric as it directly relates to the main hypothesis. The practical significance boundary is set at a minimum of 0.01.\n",
    "\n",
    "- Retention: This measures the number of user-ids that remain enrolled past the 14-day boundary (and make at least one payment), divided by the number of user-ids that complete checkout. This is an evaluation metric as it looks at the longer-term impact of the change. The practical significance boundary is set at a minimum of 0.01.\n",
    "\n",
    "- Net conversion: This measures the number of user-ids that remain enrolled past the 14-day boundary (and make at least one payment), divided by the number of unique cookies that click the \"Start free trial\" button. This is an evaluation metric as it provides insights into the conversion rate to paid enrollment. The practical significance boundary is set at a minimum of 0.0075."
   ]
  },
  {
   "cell_type": "markdown",
   "id": "20381e23",
   "metadata": {},
   "source": [
    "## Invariant metrics"
   ]
  },
  {
   "cell_type": "markdown",
   "id": "b76a85e7",
   "metadata": {},
   "source": [
    "To ensure that the randomization process is working correctly we need to use invariant metrics:\n",
    "\n",
    "- Number of cookies: This measures the number of unique cookies that view the course overview page.\n",
    "\n",
    "- Number of clicks: This measures the number of unique cookies that click the \"Start free trial\" button before the free trial screener is triggered.\n",
    "\n",
    "- Click-through-probability: This is the ratio of unique cookies that click the \"Start free trial\" button to the number of unique cookies that view the course overview page."
   ]
  },
  {
   "cell_type": "markdown",
   "id": "a9e096d9",
   "metadata": {},
   "source": [
    "## 2.1 - Baselines"
   ]
  },
  {
   "cell_type": "markdown",
   "id": "ed18253c",
   "metadata": {},
   "source": [
    "Rough estimates of the baseline values for these metrics"
   ]
  },
  {
   "cell_type": "code",
   "execution_count": 128,
   "id": "959c01c3",
   "metadata": {},
   "outputs": [],
   "source": [
    "baseline = {\"Cookies\":40000,\n",
    "            \"Clicks\":3200,\n",
    "            \"Enrollments\":660,\n",
    "            \"CTP\":0.08,\n",
    "            \"GConversion\":0.20625,\n",
    "            \"Retention\":0.53,\n",
    "            \"NConversion\":0.109313}\n"
   ]
  },
  {
   "cell_type": "markdown",
   "id": "29079fed",
   "metadata": {},
   "source": [
    "Scaling of the metrics for a sample of 5000 cookies"
   ]
  },
  {
   "cell_type": "code",
   "execution_count": 129,
   "id": "9ebaefed",
   "metadata": {},
   "outputs": [
    {
     "data": {
      "text/plain": [
       "{'Cookies': 5000.0,\n",
       " 'Clicks': 400.0,\n",
       " 'Enrollments': 82.5,\n",
       " 'CTP': 0.08,\n",
       " 'GConversion': 0.20625,\n",
       " 'Retention': 0.53,\n",
       " 'NConversion': 0.109313}"
      ]
     },
     "execution_count": 129,
     "metadata": {},
     "output_type": "execute_result"
    }
   ],
   "source": [
    "#scaled baseline\n",
    "baseline_s = {\n",
    "                \"Cookies\":baseline[\"Cookies\"]*(5000/40000),\n",
    "                \"Clicks\":baseline[\"Clicks\"]*(5000/40000),\n",
    "                \"Enrollments\":baseline[\"Enrollments\"]*(5000/40000),\n",
    "                \"CTP\":0.08,\n",
    "                \"GConversion\":0.20625,\n",
    "                \"Retention\":0.53,\n",
    "                \"NConversion\":0.109313}\n",
    "\n",
    "baseline_s"
   ]
  },
  {
   "cell_type": "markdown",
   "id": "b8e4cd2d",
   "metadata": {},
   "source": [
    "## 2.2 - Gross Conversion  - Standard deviation"
   ]
  },
  {
   "cell_type": "markdown",
   "id": "a594712a",
   "metadata": {},
   "source": [
    "The gross conversion follows a binomial distribution because only two outcomes are possible:\n",
    "\n",
    "$$\n",
    "N(p,\\sqrt{\\frac{p(1-p)}{N}})\n",
    "$$\n",
    "\n",
    "where \n",
    "p = 0.20625\n",
    "and\n",
    "N = 400\n"
   ]
  },
  {
   "cell_type": "code",
   "execution_count": 130,
   "id": "b750b0bd",
   "metadata": {},
   "outputs": [
    {
     "name": "stdout",
     "output_type": "stream",
     "text": [
      "Gross Conversion - SD =  0.0202\n"
     ]
    }
   ],
   "source": [
    "GC={}\n",
    "GC[\"d_min\"]= 0.01\n",
    "GC[\"p\"]    = baseline_s[\"GConversion\"]\n",
    "GC[\"n\"]    = baseline_s[\"Clicks\"]\n",
    "GC[\"sd\"]   = round(mt.sqrt((GC[\"p\"]*(1-GC[\"p\"]))/GC[\"n\"]),4)\n",
    "print(\"Gross Conversion - SD = \", GC[\"sd\"])"
   ]
  },
  {
   "cell_type": "markdown",
   "id": "1e4bf65d",
   "metadata": {},
   "source": [
    "## 2.3 - Retention - Standard deviation"
   ]
  },
  {
   "cell_type": "code",
   "execution_count": 131,
   "id": "9b5955d6",
   "metadata": {},
   "outputs": [
    {
     "name": "stdout",
     "output_type": "stream",
     "text": [
      "Retention - SD =  0.0549\n"
     ]
    }
   ],
   "source": [
    "R={}\n",
    "R[\"d_min\"] = 0.01\n",
    "R[\"p\"] = baseline_s[\"Retention\"]\n",
    "R[\"n\"] = baseline_s[\"Enrollments\"]\n",
    "R[\"sd\"] = round(mt.sqrt((R[\"p\"]*(1-R[\"p\"]))/R[\"n\"]),4)\n",
    "print(\"Retention - SD = \", R[\"sd\"])"
   ]
  },
  {
   "cell_type": "markdown",
   "id": "e37bc364",
   "metadata": {},
   "source": [
    "## 2.4 - Net Conversion - Standard deviation"
   ]
  },
  {
   "cell_type": "markdown",
   "id": "b8ce7ef4",
   "metadata": {},
   "source": [
    "Let's get the p and n we need for Net Conversion (NC)\n",
    "and compute the Stansard Deviation(sd) rounded to 4 decimal digits."
   ]
  },
  {
   "cell_type": "code",
   "execution_count": 132,
   "id": "e4a3df66",
   "metadata": {},
   "outputs": [
    {
     "name": "stdout",
     "output_type": "stream",
     "text": [
      "Net Conversion - SD =  0.0156\n"
     ]
    }
   ],
   "source": [
    "NC = {}\n",
    "NC[\"d_min\"] = 0.0075\n",
    "NC[\"p\"] = baseline_s[\"NConversion\"]\n",
    "NC[\"n\"] = baseline_s[\"Clicks\"]\n",
    "NC[\"sd\"] = round(mt.sqrt((NC[\"p\"]*(1-NC[\"p\"]))/NC[\"n\"]),4)\n",
    "print(\"Net Conversion - SD = \", NC[\"sd\"])"
   ]
  },
  {
   "cell_type": "markdown",
   "id": "7ea22055",
   "metadata": {},
   "source": [
    "# 5 - Calculate sample size per metric"
   ]
  },
  {
   "cell_type": "markdown",
   "id": "5f211294",
   "metadata": {},
   "source": [
    "For each metric, we want to identify the minimum size of our sample so that our experiment will have enough statistical power and siginificance."
   ]
  },
  {
   "cell_type": "markdown",
   "id": "5d61dc98",
   "metadata": {},
   "source": [
    "the following formula is used to evaluate the sample size:"
   ]
  },
  {
   "cell_type": "markdown",
   "id": "5ca7cf05",
   "metadata": {},
   "source": [
    "$$\n",
    "n = \\frac{(z_{1-\\frac{\\alpha}{2}}\\sqrt{(2p_1(1-p_1))}+z_{1-\\beta}\\sqrt{(p_1(1-p_1)+p_2(1-p_2))})^2}{d_{min}^2}\n",
    "$$\n",
    "\n",
    "where \n",
    "$\n",
    "p_1 = p \n",
    "$\n",
    "(Baseline conversion rate)\n",
    "\n",
    "and\n",
    "$\n",
    "p_2 = p + d_{min}\n",
    "$"
   ]
  },
  {
   "cell_type": "code",
   "execution_count": 133,
   "id": "402732fa",
   "metadata": {},
   "outputs": [],
   "source": [
    "#function definition to evaluate the sample size per metric\n",
    "def get_sampSize(alpha,beta,p,d_min):\n",
    "\n",
    "    z_alpha = norm.ppf(1-(alpha/2))\n",
    "    z_beta  = norm.ppf(1-beta)\n",
    "    p_1 = p\n",
    "    p_2 = p_1 +abs(d_min)\n",
    "\n",
    "    n = pow(z_alpha*mt.sqrt(2*p_1*(1-p_1))+z_beta*mt.sqrt(p_1*(1-p_1)+p_2*(1-p_2)),2)/pow(d_min,2)\n",
    "\n",
    "    return n"
   ]
  },
  {
   "cell_type": "markdown",
   "id": "7f880548",
   "metadata": {},
   "source": [
    "## 5.1 - Gross conversion"
   ]
  },
  {
   "cell_type": "code",
   "execution_count": 134,
   "id": "d7b5ec73",
   "metadata": {},
   "outputs": [
    {
     "name": "stdout",
     "output_type": "stream",
     "text": [
      "Number of clicks: 25835.0\n"
     ]
    }
   ],
   "source": [
    "GC[\"SampSize\"] = round(get_sampSize(0.05,0.2,GC[\"p\"],GC[\"d_min\"]),0)\n",
    "print(\"Number of clicks:\",GC[\"SampSize\"])"
   ]
  },
  {
   "cell_type": "markdown",
   "id": "9356fe8a",
   "metadata": {},
   "source": [
    "This number is the minimum size of the sample for the metric Gross Conversion for one group.\n",
    "Because we are interested in the number of page view, we need to take into account the Click-through-probability and double that number to consider the control and experiment group."
   ]
  },
  {
   "cell_type": "code",
   "execution_count": 135,
   "id": "1c9c2e56",
   "metadata": {},
   "outputs": [
    {
     "name": "stdout",
     "output_type": "stream",
     "text": [
      "Number of views needed: 645875.0\n"
     ]
    }
   ],
   "source": [
    "GC[\"SampSizeView\"]=GC[\"SampSize\"]/baseline_s[\"CTP\"]*2\n",
    "print(\"Number of views needed:\",GC[\"SampSizeView\"])"
   ]
  },
  {
   "cell_type": "markdown",
   "id": "8ba79bce",
   "metadata": {},
   "source": [
    "## 5.2 - Retention"
   ]
  },
  {
   "cell_type": "code",
   "execution_count": 136,
   "id": "aa541b3a",
   "metadata": {},
   "outputs": [
    {
     "name": "stdout",
     "output_type": "stream",
     "text": [
      "Number of clicks: 39087.0\n",
      "Number of views needed: 4737818.0\n"
     ]
    }
   ],
   "source": [
    "R[\"SampSize\"] = round(get_sampSize(0.05,0.2,R[\"p\"],R[\"d_min\"]),0)\n",
    "print(\"Number of clicks:\",R[\"SampSize\"])\n",
    "\n",
    "R[\"SampSizeView\"]=round(R[\"SampSize\"]/baseline_s[\"CTP\"]/baseline_s[\"GConversion\"]*2,0)\n",
    "print(\"Number of views needed:\",R[\"SampSizeView\"])"
   ]
  },
  {
   "cell_type": "markdown",
   "id": "c3e70591",
   "metadata": {},
   "source": [
    "## 5.3 - Net conversion"
   ]
  },
  {
   "cell_type": "code",
   "execution_count": 137,
   "id": "e87f0ec5",
   "metadata": {},
   "outputs": [
    {
     "name": "stdout",
     "output_type": "stream",
     "text": [
      "Number of clicks: 27413.0\n",
      "Number of views needed: 685325.0\n"
     ]
    }
   ],
   "source": [
    "NC[\"SampSize\"] = round(get_sampSize(0.05,0.2,NC[\"p\"],NC[\"d_min\"]),0)\n",
    "print(\"Number of clicks:\",NC[\"SampSize\"])\n",
    "\n",
    "NC[\"SampSizeView\"]=round(NC[\"SampSize\"]/baseline_s[\"CTP\"]*2,0)\n",
    "print(\"Number of views needed:\",NC[\"SampSizeView\"])"
   ]
  },
  {
   "cell_type": "markdown",
   "id": "72906074",
   "metadata": {},
   "source": [
    "## 5.4 - Choosing Duration vs. Exposure"
   ]
  },
  {
   "cell_type": "markdown",
   "id": "759573e1",
   "metadata": {},
   "source": [
    "The following table displays the number of days needed to run the experiment per metric depending of the "
   ]
  },
  {
   "cell_type": "code",
   "execution_count": 138,
   "id": "714e9614",
   "metadata": {},
   "outputs": [
    {
     "data": {
      "text/html": [
       "<div>\n",
       "<style scoped>\n",
       "    .dataframe tbody tr th:only-of-type {\n",
       "        vertical-align: middle;\n",
       "    }\n",
       "\n",
       "    .dataframe tbody tr th {\n",
       "        vertical-align: top;\n",
       "    }\n",
       "\n",
       "    .dataframe thead th {\n",
       "        text-align: right;\n",
       "    }\n",
       "</style>\n",
       "<table border=\"1\" class=\"dataframe\">\n",
       "  <thead>\n",
       "    <tr style=\"text-align: right;\">\n",
       "      <th></th>\n",
       "      <th>Metric</th>\n",
       "      <th>Number of views needed</th>\n",
       "      <th>Duration_exp_100pct</th>\n",
       "      <th>Duration_exp_75ct</th>\n",
       "      <th>Duration_exp_50ct</th>\n",
       "      <th>Duration_exp_25ct</th>\n",
       "    </tr>\n",
       "  </thead>\n",
       "  <tbody>\n",
       "    <tr>\n",
       "      <th>0</th>\n",
       "      <td>Gross Conversion</td>\n",
       "      <td>645875.0</td>\n",
       "      <td>16.0</td>\n",
       "      <td>22.0</td>\n",
       "      <td>32.0</td>\n",
       "      <td>65.0</td>\n",
       "    </tr>\n",
       "    <tr>\n",
       "      <th>1</th>\n",
       "      <td>Retention</td>\n",
       "      <td>4737818.0</td>\n",
       "      <td>118.0</td>\n",
       "      <td>158.0</td>\n",
       "      <td>237.0</td>\n",
       "      <td>474.0</td>\n",
       "    </tr>\n",
       "    <tr>\n",
       "      <th>2</th>\n",
       "      <td>Net Conversion</td>\n",
       "      <td>685325.0</td>\n",
       "      <td>17.0</td>\n",
       "      <td>23.0</td>\n",
       "      <td>34.0</td>\n",
       "      <td>69.0</td>\n",
       "    </tr>\n",
       "  </tbody>\n",
       "</table>\n",
       "</div>"
      ],
      "text/plain": [
       "             Metric  Number of views needed  Duration_exp_100pct  \\\n",
       "0  Gross Conversion                645875.0                 16.0   \n",
       "1         Retention               4737818.0                118.0   \n",
       "2    Net Conversion                685325.0                 17.0   \n",
       "\n",
       "   Duration_exp_75ct  Duration_exp_50ct  Duration_exp_25ct  \n",
       "0               22.0               32.0               65.0  \n",
       "1              158.0              237.0              474.0  \n",
       "2               23.0               34.0               69.0  "
      ]
     },
     "execution_count": 138,
     "metadata": {},
     "output_type": "execute_result"
    }
   ],
   "source": [
    "Duration={'Metric':['Gross Conversion','Retention','Net Conversion'],\n",
    "          'Number of views needed':[GC[\"SampSizeView\"],R[\"SampSizeView\"],NC[\"SampSizeView\"]]}\n",
    "\n",
    "dur=pd.DataFrame(data=Duration)\n",
    "dur[\"Duration_exp_100pct\"] = round(dur[\"Number of views needed\"]/baseline[\"Cookies\"],0)\n",
    "dur[\"Duration_exp_75ct\"] = round(dur[\"Number of views needed\"]/baseline[\"Cookies\"]/0.75,0)\n",
    "dur[\"Duration_exp_50ct\"] = round(dur[\"Number of views needed\"]/baseline[\"Cookies\"]/0.5,0)\n",
    "dur[\"Duration_exp_25ct\"] = round(dur[\"Number of views needed\"]/baseline[\"Cookies\"]/0.25 ,0)\n",
    "\n",
    "dur"
   ]
  },
  {
   "cell_type": "markdown",
   "id": "ebfd51ef",
   "metadata": {},
   "source": [
    "We can see that the Retention metric will require at best 119 days of data. Ain't nobody got time for that. We will reject this metric for our test.\n",
    "\n",
    "The conversion metrics are more reasonable for our experiment."
   ]
  },
  {
   "cell_type": "code",
   "execution_count": null,
   "id": "bbc8f4b3",
   "metadata": {},
   "outputs": [],
   "source": []
  },
  {
   "cell_type": "markdown",
   "id": "b01bd36a",
   "metadata": {},
   "source": [
    "# 6 - Analyzis"
   ]
  },
  {
   "cell_type": "markdown",
   "id": "100bed22",
   "metadata": {},
   "source": [
    "## 6.1 - Import Data"
   ]
  },
  {
   "cell_type": "markdown",
   "id": "657f16bc",
   "metadata": {},
   "source": [
    "Udacity extracted data for both the control group and the exeriment group."
   ]
  },
  {
   "cell_type": "code",
   "execution_count": 139,
   "id": "fc823bfe",
   "metadata": {},
   "outputs": [],
   "source": [
    "control    = pd.read_csv(\"Control.csv\")\n",
    "experiment = pd.read_csv(\"Experiment.csv\")"
   ]
  },
  {
   "cell_type": "markdown",
   "id": "a5823eb2",
   "metadata": {},
   "source": [
    "## 6.2 - Sanity checks"
   ]
  },
  {
   "cell_type": "markdown",
   "id": "4e97bf47",
   "metadata": {},
   "source": [
    "### 6.2.1 - Sanity checks Invariants\n",
    "The invariant metrics can be used to evaluate if the base of the control group and the experiment group are similar as expected. For each metric, a CI is evaluated to verify that our results are within his interval."
   ]
  },
  {
   "cell_type": "markdown",
   "id": "7d181526",
   "metadata": {},
   "source": [
    "$$\n",
    "CI = [\\hat{p}-ME,\\hat{p}+ME]\n",
    "$$\n",
    "\n",
    "Where ME is the margin of error:\n",
    "$$\n",
    "ME = Z_{1-\\alpha/2}SE\n",
    "$$\n",
    "\n",
    "Where SE is the standard Error. The two groups are randomly distributed with a probability of 50%. Because the number of observation is important, we can associate this binomial distribution to a normal one.\n",
    "\n",
    "$$\n",
    "X \\sim N(p,\\sqrt{\\frac{p(1-p)}{N}})\n",
    "$$"
   ]
  },
  {
   "cell_type": "markdown",
   "id": "d81f2aac",
   "metadata": {},
   "source": [
    "#### 6.2.1.1 - Page views - Number of cookies"
   ]
  },
  {
   "cell_type": "code",
   "execution_count": 140,
   "id": "dc034055",
   "metadata": {},
   "outputs": [
    {
     "name": "stdout",
     "output_type": "stream",
     "text": [
      "Is the number of cookies 0.5006  between  0.4988  and  0.5012 ? Yes\n"
     ]
    }
   ],
   "source": [
    "total_Pageviews=sum(control[\"Pageviews\"])+sum(experiment[\"Pageviews\"])\n",
    "total_Pageviews\n",
    "SE = mt.sqrt(0.5*(1-0.5)/total_Pageviews)\n",
    "\n",
    "#We evaluate the Margin of error with a confidence level of 95% (alpha = 0.05)\n",
    "alpha = 0.05\n",
    "ME = norm.ppf(1-(alpha/2))*SE\n",
    "\n",
    "LB = 0.5 - ME\n",
    "UB = 0.5 + ME\n",
    "OF = sum(control[\"Pageviews\"])/total_Pageviews\n",
    "print(\"Is the number of cookies\",round(OF,4),\" between \",round(LB,4),\" and \", round(UB,4), \"?\",\n",
    "     np.where((OF > LB and OF < UB), 'Yes', 'No')\n",
    "     )"
   ]
  },
  {
   "cell_type": "markdown",
   "id": "c8398115",
   "metadata": {},
   "source": [
    "The difference in term of number of observation between the control and experiment group are acceptable."
   ]
  },
  {
   "cell_type": "markdown",
   "id": "b45d82c2",
   "metadata": {},
   "source": [
    "#### 6.2.1.2 - Number of clicks"
   ]
  },
  {
   "cell_type": "code",
   "execution_count": 141,
   "id": "2f13a69b",
   "metadata": {},
   "outputs": [
    {
     "name": "stdout",
     "output_type": "stream",
     "text": [
      "Is the number of clicks  0.5005  between  0.4988  and  0.5012 ? Yes\n"
     ]
    }
   ],
   "source": [
    "sum(control[\"Clicks\"])\n",
    "sum(experiment[\"Clicks\"])\n",
    "total_Clicks=sum(control[\"Clicks\"])+sum(experiment[\"Clicks\"])\n",
    "total_Clicks\n",
    "\n",
    "SE = mt.sqrt(0.5*(1-0.5)/total_Pageviews)\n",
    "\n",
    "#We evaluate the Margin of error with a confidence level of 95% (alpha = 0.05)\n",
    "alpha = 0.05\n",
    "ME = norm.ppf(1-(alpha/2))*SE\n",
    "\n",
    "LB = 0.5 - ME\n",
    "UB = 0.5 + ME\n",
    "OF = sum(control[\"Clicks\"])/total_Clicks\n",
    "print(\"Is the number of clicks \",round(OF,4),\" between \",round(LB,4),\" and \", round(UB,4), \"?\",\n",
    "     np.where((OF > LB and OF < UB), 'Yes', 'No')\n",
    "     )"
   ]
  },
  {
   "cell_type": "markdown",
   "id": "33410616",
   "metadata": {},
   "source": [
    "#### 6.2.1.3 - Click-through-probability"
   ]
  },
  {
   "cell_type": "code",
   "execution_count": 142,
   "id": "528edb8f",
   "metadata": {},
   "outputs": [],
   "source": [
    "def ci_calculation(alpha,x_e,x_c,n_e,n_c,diff):\n",
    "    \n",
    "    p_pool = (x_e+x_c)/(n_e+n_c)\n",
    "\n",
    "    SE_pool = mt.sqrt(p_pool*(1-p_pool)*(1/n_e + 1/n_c))\n",
    "\n",
    "    ME_pool = norm.ppf(1-(alpha/2))*SE_pool\n",
    "\n",
    "    #Lower bound of CI\n",
    "    LB = diff - ME_pool\n",
    "    \n",
    "    #Upper bound of CI\n",
    "    UB = diff + ME_pool\n",
    "    \n",
    "    ci={}\n",
    "    ci[\"LB\"] = LB\n",
    "    ci[\"UB\"] = UB\n",
    "    \n",
    "    return ci"
   ]
  },
  {
   "cell_type": "code",
   "execution_count": 143,
   "id": "13e9f20b",
   "metadata": {},
   "outputs": [
    {
     "name": "stdout",
     "output_type": "stream",
     "text": [
      "{'LB': -0.001295655390242568, 'UB': 0.001295655390242568}\n",
      "Is the the difference between CTP_C and CTP_E  -0.0001  between  0.4988  and  0.5012 ? Yes\n"
     ]
    }
   ],
   "source": [
    "CTP_C = sum(control[\"Clicks\"])/sum(control[\"Pageviews\"])\n",
    "CTP_E = sum(experiment[\"Clicks\"])/sum(experiment[\"Pageviews\"])\n",
    "\n",
    "CTP_CI = ci_calculation(0.05,sum(experiment[\"Clicks\"]),sum(control[\"Clicks\"]),sum(experiment[\"Pageviews\"]),sum(control[\"Pageviews\"]),0)\n",
    "\n",
    "print(CTP_CI)\n",
    "\n",
    "print(\"Is the the difference between CTP_C and CTP_E \",round(CTP_C-CTP_E,4),\" between \",round(LB,4),\" and \", round(UB,4), \"?\",\n",
    "     np.where((CTP_C-CTP_E > CTP_CI[\"LB\"] and CTP_C-CTP_E < CTP_CI[\"UB\"]), 'Yes', 'No')\n",
    "     )"
   ]
  },
  {
   "cell_type": "markdown",
   "id": "91814856",
   "metadata": {},
   "source": [
    "## 6.3  - Check for Practical and Statistical Significance"
   ]
  },
  {
   "cell_type": "markdown",
   "id": "b6292c89",
   "metadata": {},
   "source": [
    "For our evaluation metrics, let's calculate a confidence interval for the difference between the experiment and control groups, and check whether each metric is statistically and/or practically significance. A metric is statistically significant if the confidence interval does not include 0 (that is, you can be confident there was a change), and it is practically significant if the confidence interval does not include the practical significance boundary (that is, you can be confident there is a change that matters to the business.)"
   ]
  },
  {
   "cell_type": "markdown",
   "id": "d7e3b84a",
   "metadata": {},
   "source": [
    "### 6.3.1 - Gross conversion"
   ]
  },
  {
   "cell_type": "markdown",
   "id": "4b76590a",
   "metadata": {},
   "source": [
    "We only select the days where enrollment were registered"
   ]
  },
  {
   "cell_type": "code",
   "execution_count": 144,
   "id": "aa15da5c",
   "metadata": {},
   "outputs": [],
   "source": [
    "clicks_cont=sum(control[\"Clicks\"].loc[control[\"Enrollments\"].notnull()])\n",
    "clicks_exp=sum(experiment[\"Clicks\"].loc[experiment[\"Enrollments\"].notnull()])\n",
    "\n",
    "enr_cont = sum(control[\"Enrollments\"].loc[control[\"Enrollments\"].notnull()])\n",
    "enr_exp  = sum(experiment[\"Enrollments\"].loc[experiment[\"Enrollments\"].notnull()])\n",
    "\n",
    "GC_cont = enr_cont/clicks_cont\n",
    "GC_exp = enr_exp/clicks_exp\n",
    "\n",
    "diff = GC_exp - GC_cont\n"
   ]
  },
  {
   "cell_type": "code",
   "execution_count": 145,
   "id": "4d62c681",
   "metadata": {},
   "outputs": [
    {
     "name": "stdout",
     "output_type": "stream",
     "text": [
      "{'LB': -0.02912320088750467, 'UB': -0.011986548273218463}\n"
     ]
    }
   ],
   "source": [
    "GC_CI = ci_calculation(0.05,enr_exp,enr_cont,clicks_exp,clicks_cont,diff)\n",
    "\n",
    "print(GC_CI)"
   ]
  },
  {
   "cell_type": "code",
   "execution_count": 146,
   "id": "44332cb9",
   "metadata": {},
   "outputs": [
    {
     "name": "stdout",
     "output_type": "stream",
     "text": [
      "The expermient is statistically significant if 0 is not included in the CI [ -0.0291 , -0.012 ] and is practically significant if d_min( -0.01 ) is also not included in the CI either. Are the results successful? Yes\n"
     ]
    }
   ],
   "source": [
    "print(\"The expermient is statistically significant if 0 is not included in the CI [\",round(GC_CI[\"LB\"],4),\",\",round(GC_CI[\"UB\"],4), \"] and is practically significant if d_min(\",-GC[\"d_min\"],\") is also not included in the CI either.\", \n",
    "     \"Are the results successful?\",\n",
    "      np.where((0 < GC_CI[\"LB\"] or 0 > GC_CI[\"UB\"]) and (abs(GC[\"d_min\"]) < abs(GC_CI[\"LB\"])) , 'Yes', 'No')\n",
    "     )"
   ]
  },
  {
   "cell_type": "markdown",
   "id": "2766eba4",
   "metadata": {},
   "source": [
    "### 6.3.2 - Net conversion"
   ]
  },
  {
   "cell_type": "code",
   "execution_count": 147,
   "id": "60920209",
   "metadata": {},
   "outputs": [
    {
     "name": "stdout",
     "output_type": "stream",
     "text": [
      "{'LB': -0.011604500677993734, 'UB': 0.0018570553289053993}\n"
     ]
    }
   ],
   "source": [
    "clicks_cont=sum(control[\"Clicks\"].loc[control[\"Payments\"].notnull()])\n",
    "clicks_exp=sum(experiment[\"Clicks\"].loc[experiment[\"Payments\"].notnull()])\n",
    "\n",
    "pay_cont = sum(control[\"Payments\"].loc[control[\"Payments\"].notnull()])\n",
    "pay_exp  = sum(experiment[\"Payments\"].loc[experiment[\"Payments\"].notnull()])\n",
    "\n",
    "NC_cont = pay_cont/clicks_cont\n",
    "NC_exp = pay_exp/clicks_exp\n",
    "\n",
    "diff = NC_exp - NC_cont\n",
    "\n",
    "NC_CI = ci_calculation(0.05,pay_exp,pay_cont,clicks_exp,clicks_cont,diff)\n",
    "\n",
    "print(NC_CI)"
   ]
  },
  {
   "cell_type": "code",
   "execution_count": 148,
   "id": "9959baa5",
   "metadata": {},
   "outputs": [
    {
     "name": "stdout",
     "output_type": "stream",
     "text": [
      "The expermient is statistically significant if 0 is not included in the CI [ -0.0116 , 0.0019 ] and is practically significant if d_min( -0.0075 ) is also not included in the CI either. Are the results successful? No\n"
     ]
    }
   ],
   "source": [
    "print(\"The expermient is statistically significant if 0 is not included in the CI [\",round(NC_CI[\"LB\"],4),\",\",round(NC_CI[\"UB\"],4), \"] and is practically significant if d_min(\",-NC[\"d_min\"],\") is also not included in the CI either.\", \n",
    "     \"Are the results successful?\",\n",
    "      np.where((0 < NC_CI[\"LB\"] or 0 > NC_CI[\"UB\"]) and (abs(NC[\"d_min\"]) < abs(NC_CI[\"LB\"])) , 'Yes', 'No')\n",
    "     )"
   ]
  },
  {
   "cell_type": "markdown",
   "id": "7b676030",
   "metadata": {},
   "source": [
    "## 6.4 - Sign test"
   ]
  },
  {
   "cell_type": "markdown",
   "id": "74eec3ff",
   "metadata": {},
   "source": [
    "We use the binomial test when there are two possible outcomes. You know how many of each kind of outcome (traditionally called \"success\" and \"failure\") occurred in your experiment. You also have a hypothesis for what the true overall probability of \"success\" is. The binomial test answers this question: If the true probability of \"success\" is what your theory predicts, then how likely is it to find results that deviate as far, or further, from the prediction.\n",
    "\n",
    "The sign test is a special case of the binomial case where your theory is that the two outcomes have equal probabilities."
   ]
  },
  {
   "cell_type": "markdown",
   "id": "3e575c31",
   "metadata": {},
   "source": [
    "https://vitalflux.com/sign-test-hypothesis-python-examples/"
   ]
  },
  {
   "cell_type": "code",
   "execution_count": 149,
   "id": "f0d72e75",
   "metadata": {},
   "outputs": [
    {
     "data": {
      "text/html": [
       "<div>\n",
       "<style scoped>\n",
       "    .dataframe tbody tr th:only-of-type {\n",
       "        vertical-align: middle;\n",
       "    }\n",
       "\n",
       "    .dataframe tbody tr th {\n",
       "        vertical-align: top;\n",
       "    }\n",
       "\n",
       "    .dataframe thead th {\n",
       "        text-align: right;\n",
       "    }\n",
       "</style>\n",
       "<table border=\"1\" class=\"dataframe\">\n",
       "  <thead>\n",
       "    <tr style=\"text-align: right;\">\n",
       "      <th></th>\n",
       "      <th>Date</th>\n",
       "      <th>Pageviews_c</th>\n",
       "      <th>Clicks_c</th>\n",
       "      <th>Enrollments_c</th>\n",
       "      <th>Payments_c</th>\n",
       "      <th>Pageviews_e</th>\n",
       "      <th>Clicks_e</th>\n",
       "      <th>Enrollments_e</th>\n",
       "      <th>Payments_e</th>\n",
       "      <th>GC_c</th>\n",
       "      <th>GC_e</th>\n",
       "      <th>GC_Sign</th>\n",
       "      <th>NC_c</th>\n",
       "      <th>NC_e</th>\n",
       "      <th>NC_Sign</th>\n",
       "    </tr>\n",
       "  </thead>\n",
       "  <tbody>\n",
       "    <tr>\n",
       "      <th>0</th>\n",
       "      <td>Sat, Oct 11</td>\n",
       "      <td>7723</td>\n",
       "      <td>687</td>\n",
       "      <td>134.0</td>\n",
       "      <td>70.0</td>\n",
       "      <td>7716</td>\n",
       "      <td>686</td>\n",
       "      <td>105.0</td>\n",
       "      <td>34.0</td>\n",
       "      <td>0.195051</td>\n",
       "      <td>0.153061</td>\n",
       "      <td>True</td>\n",
       "      <td>0.101892</td>\n",
       "      <td>0.049563</td>\n",
       "      <td>True</td>\n",
       "    </tr>\n",
       "    <tr>\n",
       "      <th>1</th>\n",
       "      <td>Sun, Oct 12</td>\n",
       "      <td>9102</td>\n",
       "      <td>779</td>\n",
       "      <td>147.0</td>\n",
       "      <td>70.0</td>\n",
       "      <td>9288</td>\n",
       "      <td>785</td>\n",
       "      <td>116.0</td>\n",
       "      <td>91.0</td>\n",
       "      <td>0.188703</td>\n",
       "      <td>0.147771</td>\n",
       "      <td>True</td>\n",
       "      <td>0.089859</td>\n",
       "      <td>0.115924</td>\n",
       "      <td>False</td>\n",
       "    </tr>\n",
       "    <tr>\n",
       "      <th>2</th>\n",
       "      <td>Mon, Oct 13</td>\n",
       "      <td>10511</td>\n",
       "      <td>909</td>\n",
       "      <td>167.0</td>\n",
       "      <td>95.0</td>\n",
       "      <td>10480</td>\n",
       "      <td>884</td>\n",
       "      <td>145.0</td>\n",
       "      <td>79.0</td>\n",
       "      <td>0.183718</td>\n",
       "      <td>0.164027</td>\n",
       "      <td>True</td>\n",
       "      <td>0.104510</td>\n",
       "      <td>0.089367</td>\n",
       "      <td>True</td>\n",
       "    </tr>\n",
       "    <tr>\n",
       "      <th>3</th>\n",
       "      <td>Tue, Oct 14</td>\n",
       "      <td>9871</td>\n",
       "      <td>836</td>\n",
       "      <td>156.0</td>\n",
       "      <td>105.0</td>\n",
       "      <td>9867</td>\n",
       "      <td>827</td>\n",
       "      <td>138.0</td>\n",
       "      <td>92.0</td>\n",
       "      <td>0.186603</td>\n",
       "      <td>0.166868</td>\n",
       "      <td>True</td>\n",
       "      <td>0.125598</td>\n",
       "      <td>0.111245</td>\n",
       "      <td>True</td>\n",
       "    </tr>\n",
       "    <tr>\n",
       "      <th>4</th>\n",
       "      <td>Wed, Oct 15</td>\n",
       "      <td>10014</td>\n",
       "      <td>837</td>\n",
       "      <td>163.0</td>\n",
       "      <td>64.0</td>\n",
       "      <td>9793</td>\n",
       "      <td>832</td>\n",
       "      <td>140.0</td>\n",
       "      <td>94.0</td>\n",
       "      <td>0.194743</td>\n",
       "      <td>0.168269</td>\n",
       "      <td>True</td>\n",
       "      <td>0.076464</td>\n",
       "      <td>0.112981</td>\n",
       "      <td>False</td>\n",
       "    </tr>\n",
       "  </tbody>\n",
       "</table>\n",
       "</div>"
      ],
      "text/plain": [
       "          Date  Pageviews_c  Clicks_c  Enrollments_c  Payments_c  Pageviews_e  \\\n",
       "0  Sat, Oct 11         7723       687          134.0        70.0         7716   \n",
       "1  Sun, Oct 12         9102       779          147.0        70.0         9288   \n",
       "2  Mon, Oct 13        10511       909          167.0        95.0        10480   \n",
       "3  Tue, Oct 14         9871       836          156.0       105.0         9867   \n",
       "4  Wed, Oct 15        10014       837          163.0        64.0         9793   \n",
       "\n",
       "   Clicks_e  Enrollments_e  Payments_e      GC_c      GC_e  GC_Sign      NC_c  \\\n",
       "0       686          105.0        34.0  0.195051  0.153061     True  0.101892   \n",
       "1       785          116.0        91.0  0.188703  0.147771     True  0.089859   \n",
       "2       884          145.0        79.0  0.183718  0.164027     True  0.104510   \n",
       "3       827          138.0        92.0  0.186603  0.166868     True  0.125598   \n",
       "4       832          140.0        94.0  0.194743  0.168269     True  0.076464   \n",
       "\n",
       "       NC_e  NC_Sign  \n",
       "0  0.049563     True  \n",
       "1  0.115924    False  \n",
       "2  0.089367     True  \n",
       "3  0.111245     True  \n",
       "4  0.112981    False  "
      ]
     },
     "execution_count": 149,
     "metadata": {},
     "output_type": "execute_result"
    }
   ],
   "source": [
    "\n",
    "#We merge the control and experiment data sets to evaluate the sign of the changes in term of conversion\n",
    "st = pd.merge(control, experiment,  how='inner', left_on=['Date'], right_on = ['Date'], suffixes=('_c', '_e'))\n",
    "\n",
    "#We only select rows where we have values for clicks and enrollments\n",
    "st = st[st[\"Enrollments_c\"].notnull()]\n",
    "\n",
    "#Gross conversion\n",
    "st[\"GC_c\"] = st[\"Enrollments_c\"]/st[\"Clicks_c\"]\n",
    "st[\"GC_e\"] = st[\"Enrollments_e\"]/st[\"Clicks_e\"]\n",
    "#We expect a decrease of the conversion rate\n",
    "st[\"GC_Sign\"] = np.where(st[\"GC_c\"] > st[\"GC_e\"], True, False)\n",
    "\n",
    "\n",
    "#Net conversion\n",
    "st[\"NC_c\"] = st[\"Payments_c\"]/st[\"Clicks_c\"]\n",
    "st[\"NC_e\"] = st[\"Payments_e\"]/st[\"Clicks_e\"]\n",
    "#We expect a decrease of the conversion rate\n",
    "st[\"NC_Sign\"] = np.where(st[\"NC_c\"] > st[\"NC_e\"], True, False)\n",
    "\n",
    "st.head()"
   ]
  },
  {
   "cell_type": "markdown",
   "id": "82119cb5",
   "metadata": {},
   "source": [
    "## 6.4.1 - Sign test - Gross conversion"
   ]
  },
  {
   "cell_type": "code",
   "execution_count": 150,
   "id": "1eaf4691",
   "metadata": {},
   "outputs": [],
   "source": [
    "# Pos correspond to the direction we exect the variation to go (less enrollments)\n",
    "Pos = len(st[st['GC_Sign'] == True])\n",
    "Neg = len(st[st['GC_Sign'] != True])"
   ]
  },
  {
   "cell_type": "code",
   "execution_count": 151,
   "id": "3d9862b8",
   "metadata": {},
   "outputs": [
    {
     "name": "stdout",
     "output_type": "stream",
     "text": [
      "p-value: 0.002599477767944336\n",
      "We reject the null hypothesis: the pop-up window appears to have a significant effect on enrollment.\n"
     ]
    }
   ],
   "source": [
    "p_value = stats.binom_test(Pos, Pos+Neg, p=0.5, alternative='two-sided')\n",
    " \n",
    "print(f'p-value: {p_value}')\n",
    " \n",
    "# Interpret the p-value\n",
    "if p_value < 0.05:\n",
    "    print(\"We reject the null hypothesis: the pop-up window appears to have a significant effect on enrollment.\")\n",
    "else:\n",
    "    print(\"We fail to reject the null hypothesis\")"
   ]
  },
  {
   "cell_type": "markdown",
   "id": "763e23f3",
   "metadata": {},
   "source": [
    "## 6.4.2 - Sign test - Net conversion"
   ]
  },
  {
   "cell_type": "code",
   "execution_count": 152,
   "id": "faa582f0",
   "metadata": {},
   "outputs": [
    {
     "name": "stdout",
     "output_type": "stream",
     "text": [
      "p-value: 0.6776394844055176\n",
      "We fail to reject the null hypothesis\n"
     ]
    }
   ],
   "source": [
    "# Pos correspond to the direction we exect the variation to go (less enrollments)\n",
    "Pos = len(st[st['NC_Sign'] == True])\n",
    "Neg = len(st[st['NC_Sign'] != True])\n",
    "\n",
    "p_value = stats.binom_test(Pos, Pos+Neg, p=0.5, alternative='two-sided')\n",
    " \n",
    "print(f'p-value: {p_value}')\n",
    " \n",
    "# Interpret the p-value\n",
    "if p_value < 0.05:\n",
    "    print(\"We reject the null hypothesis: the pop-up window appears to have a significant effect on enrollment.\")\n",
    "else:\n",
    "    print(\"We fail to reject the null hypothesis\")"
   ]
  },
  {
   "cell_type": "markdown",
   "id": "ed899f27",
   "metadata": {},
   "source": [
    "# 7 - Results summary"
   ]
  },
  {
   "cell_type": "code",
   "execution_count": 153,
   "id": "dda68de4",
   "metadata": {},
   "outputs": [
    {
     "data": {
      "text/html": [
       "<div>\n",
       "<style scoped>\n",
       "    .dataframe tbody tr th:only-of-type {\n",
       "        vertical-align: middle;\n",
       "    }\n",
       "\n",
       "    .dataframe tbody tr th {\n",
       "        vertical-align: top;\n",
       "    }\n",
       "\n",
       "    .dataframe thead th {\n",
       "        text-align: right;\n",
       "    }\n",
       "</style>\n",
       "<table border=\"1\" class=\"dataframe\">\n",
       "  <thead>\n",
       "    <tr style=\"text-align: right;\">\n",
       "      <th></th>\n",
       "      <th>Type of metric</th>\n",
       "      <th>Sizing</th>\n",
       "      <th>Duration min</th>\n",
       "      <th>Sanity checks</th>\n",
       "      <th>Practical and Statistical Significance</th>\n",
       "      <th>Sign test</th>\n",
       "    </tr>\n",
       "  </thead>\n",
       "  <tbody>\n",
       "    <tr>\n",
       "      <th>Number of cookies</th>\n",
       "      <td>Invariant</td>\n",
       "      <td></td>\n",
       "      <td></td>\n",
       "      <td>Success</td>\n",
       "      <td></td>\n",
       "      <td></td>\n",
       "    </tr>\n",
       "    <tr>\n",
       "      <th>Number of clicks</th>\n",
       "      <td>Invariant</td>\n",
       "      <td></td>\n",
       "      <td></td>\n",
       "      <td>Success</td>\n",
       "      <td></td>\n",
       "      <td></td>\n",
       "    </tr>\n",
       "    <tr>\n",
       "      <th>Click-through-probability</th>\n",
       "      <td>Invariant</td>\n",
       "      <td></td>\n",
       "      <td></td>\n",
       "      <td>Success</td>\n",
       "      <td></td>\n",
       "      <td></td>\n",
       "    </tr>\n",
       "    <tr>\n",
       "      <th>Gross Conversion</th>\n",
       "      <td>Evaluation</td>\n",
       "      <td>645875.0</td>\n",
       "      <td>16.146875</td>\n",
       "      <td></td>\n",
       "      <td>Success</td>\n",
       "      <td>Success</td>\n",
       "    </tr>\n",
       "    <tr>\n",
       "      <th>Retention</th>\n",
       "      <td>Evaluation</td>\n",
       "      <td>4737818.0</td>\n",
       "      <td>118.44545</td>\n",
       "      <td></td>\n",
       "      <td></td>\n",
       "      <td></td>\n",
       "    </tr>\n",
       "    <tr>\n",
       "      <th>Net Conversion</th>\n",
       "      <td>Evaluation</td>\n",
       "      <td>685325.0</td>\n",
       "      <td>17.133125</td>\n",
       "      <td></td>\n",
       "      <td>Fail</td>\n",
       "      <td>Fail</td>\n",
       "    </tr>\n",
       "  </tbody>\n",
       "</table>\n",
       "</div>"
      ],
      "text/plain": [
       "                          Type of metric     Sizing Duration min  \\\n",
       "Number of cookies              Invariant                           \n",
       "Number of clicks               Invariant                           \n",
       "Click-through-probability      Invariant                           \n",
       "Gross Conversion              Evaluation   645875.0    16.146875   \n",
       "Retention                     Evaluation  4737818.0    118.44545   \n",
       "Net Conversion                Evaluation   685325.0    17.133125   \n",
       "\n",
       "                          Sanity checks  \\\n",
       "Number of cookies               Success   \n",
       "Number of clicks                Success   \n",
       "Click-through-probability       Success   \n",
       "Gross Conversion                          \n",
       "Retention                                 \n",
       "Net Conversion                            \n",
       "\n",
       "                          Practical and Statistical Significance Sign test  \n",
       "Number of cookies                                                           \n",
       "Number of clicks                                                            \n",
       "Click-through-probability                                                   \n",
       "Gross Conversion                                         Success   Success  \n",
       "Retention                                                                   \n",
       "Net Conversion                                              Fail      Fail  "
      ]
     },
     "execution_count": 153,
     "metadata": {},
     "output_type": "execute_result"
    }
   ],
   "source": [
    "summary = {            \"Type of metric\":pd.Series([\"Invariant\",\n",
    "                                 \"Invariant\",\n",
    "                                 \"Invariant\",\n",
    "                                 \"Evaluation\",\n",
    "                                 \"Evaluation\",\n",
    "                                 \"Evaluation\"],\n",
    "                                index = [\"Number of cookies\",\n",
    "                                         \"Number of clicks\",\n",
    "                                         \"Click-through-probability\",\n",
    "                                         \"Gross Conversion\",\n",
    "                                         \"Retention\",\n",
    "                                         \"Net Conversion\"]),\n",
    "           \"Sizing\":pd.Series([\"\",\n",
    "                                 \"\",\n",
    "                                 \"\",\n",
    "                                 GC[\"SampSizeView\"],\n",
    "                                 R[\"SampSizeView\"],\n",
    "                                 NC[\"SampSizeView\"]],\n",
    "                                index = [\"Number of cookies\",\n",
    "                                         \"Number of clicks\",\n",
    "                                         \"Click-through-probability\",\n",
    "                                         \"Gross Conversion\",\n",
    "                                         \"Retention\",\n",
    "                                         \"Net Conversion\"]),\n",
    "           \"Duration min\":pd.Series([\"\",\n",
    "                                 \"\",\n",
    "                                 \"\",\n",
    "                                 GC[\"SampSizeView\"]/baseline[\"Cookies\"],\n",
    "                                 R[\"SampSizeView\"]/baseline[\"Cookies\"],\n",
    "                                 NC[\"SampSizeView\"]/baseline[\"Cookies\"]],\n",
    "                                index = [\"Number of cookies\",\n",
    "                                         \"Number of clicks\",\n",
    "                                         \"Click-through-probability\",\n",
    "                                         \"Gross Conversion\",\n",
    "                                         \"Retention\",\n",
    "                                         \"Net Conversion\"]),\n",
    "            \"Sanity checks\":pd.Series([\"Success\",\n",
    "                                             \"Success\",\n",
    "                                             \"Success\",\n",
    "                                             \"\",\n",
    "                                             \"\",\n",
    "                                             \"\"],\n",
    "                                            index = [\"Number of cookies\",\n",
    "                                                     \"Number of clicks\",\n",
    "                                                     \"Click-through-probability\",\n",
    "                                                     \"Gross Conversion\",\n",
    "                                                     \"Retention\",\n",
    "                                                     \"Net Conversion\"]),\n",
    "            \"Practical and Statistical Significance\":pd.Series([\"\",\n",
    "                                             \"\",\n",
    "                                             \"\",\n",
    "                                             \"Success\",\n",
    "                                             \"\",\n",
    "                                             \"Fail\"],\n",
    "                                            index = [\"Number of cookies\",\n",
    "                                                     \"Number of clicks\",\n",
    "                                                     \"Click-through-probability\",\n",
    "                                                     \"Gross Conversion\",\n",
    "                                                     \"Retention\",\n",
    "                                                     \"Net Conversion\"]),\n",
    "            \"Sign test\":pd.Series([\"\",\n",
    "                                             \"\",\n",
    "                                             \"\",\n",
    "                                             \"Success\",\n",
    "                                             \"\",\n",
    "                                             \"Fail\"],\n",
    "                                            index = [\"Number of cookies\",\n",
    "                                                     \"Number of clicks\",\n",
    "                                                     \"Click-through-probability\",\n",
    "                                                     \"Gross Conversion\",\n",
    "                                                     \"Retention\",\n",
    "                                                     \"Net Conversion\"])\n",
    "           \n",
    "          }\n",
    "df_results = pd.DataFrame(summary)\n",
    "df_results\n"
   ]
  },
  {
   "cell_type": "markdown",
   "id": "e6c4a7f7",
   "metadata": {},
   "source": [
    "The primary objective is to enhance the number of students who successfully complete the free trial. After thorough analysis, it's evident that the Net Conversion metric did not pass the practical, statistical, and sign tests for significance. Therefore, we cannot confidently assert that the proposed changes will yield the anticipated results."
   ]
  },
  {
   "cell_type": "code",
   "execution_count": null,
   "id": "3dd8932e",
   "metadata": {},
   "outputs": [],
   "source": []
  }
 ],
 "metadata": {
  "kernelspec": {
   "display_name": "Python 3 (ipykernel)",
   "language": "python",
   "name": "python3"
  },
  "language_info": {
   "codemirror_mode": {
    "name": "ipython",
    "version": 3
   },
   "file_extension": ".py",
   "mimetype": "text/x-python",
   "name": "python",
   "nbconvert_exporter": "python",
   "pygments_lexer": "ipython3",
   "version": "3.9.13"
  }
 },
 "nbformat": 4,
 "nbformat_minor": 5
}
